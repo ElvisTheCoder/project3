{
 "cells": [
  {
   "cell_type": "code",
   "execution_count": 30,
   "metadata": {},
   "outputs": [],
   "source": [
    "import pandas as pd\n",
    "import random\n",
    "from sqlalchemy.orm import Session"
   ]
  },
  {
   "cell_type": "code",
   "execution_count": 50,
   "metadata": {},
   "outputs": [
    {
     "name": "stdout",
     "output_type": "stream",
     "text": [
      "     Series ID  Year    Value  Percentage_Change\n",
      "0  CUUSS49BSAH  2010  245.718               <NA>\n",
      "1  CUUSS49BSAH  2011  250.956           0.021317\n",
      "2  CUUSS49BSAH  2012  259.642           0.034612\n",
      "3  CUUSS49BSAH  2013  268.888           0.035611\n",
      "4  CUUSS49BSAH  2014  281.407           0.046558\n"
     ]
    },
    {
     "name": "stderr",
     "output_type": "stream",
     "text": [
      "/var/folders/7k/6nnx_jrs1kj7qg39rwhwdr180000gn/T/ipykernel_9570/3731174640.py:10: SettingWithCopyWarning: \n",
      "A value is trying to be set on a copy of a slice from a DataFrame.\n",
      "Try using .loc[row_indexer,col_indexer] = value instead\n",
      "\n",
      "See the caveats in the documentation: https://pandas.pydata.org/pandas-docs/stable/user_guide/indexing.html#returning-a-view-versus-a-copy\n",
      "  Final['Percentage_Change'] = ''\n",
      "/var/folders/7k/6nnx_jrs1kj7qg39rwhwdr180000gn/T/ipykernel_9570/3731174640.py:12: SettingWithCopyWarning: \n",
      "A value is trying to be set on a copy of a slice from a DataFrame.\n",
      "Try using .loc[row_indexer,col_indexer] = value instead\n",
      "\n",
      "See the caveats in the documentation: https://pandas.pydata.org/pandas-docs/stable/user_guide/indexing.html#returning-a-view-versus-a-copy\n",
      "  Final['Value'] = Final['Value'].astype('Float64')\n"
     ]
    }
   ],
   "source": [
    "import requests\n",
    "import json\n",
    "\n",
    "SFHousingData = pd.read_csv('TuitionMedicalHousingShelterFeultetcSanFran.csv')\n",
    "\n",
    "Filtered = SFHousingData[(SFHousingData['Series ID'] == 'CUUSS49BSAH') & (SFHousingData['Period'] == 'S02')]\n",
    "\n",
    "Final = Filtered[['Series ID','Year','Value']]\n",
    "\n",
    "Final['Percentage_Change'] = ''\n",
    "\n",
    "Final['Value'] = Final['Value'].astype('Float64')\n",
    "\n",
    "Final = Final.reset_index(drop=True)\n",
    "\n",
    "Final['Percentage_Change'] = Final['Value'].pct_change()\n",
    "\n",
    "Final = Final[(Final['Year']) >= 2007]\n",
    "\n",
    "    \n",
    "    \n",
    "print(Final.head())"
   ]
  }
 ],
 "metadata": {
  "kernelspec": {
   "display_name": "databootcamp",
   "language": "python",
   "name": "python3"
  },
  "language_info": {
   "codemirror_mode": {
    "name": "ipython",
    "version": 3
   },
   "file_extension": ".py",
   "mimetype": "text/x-python",
   "name": "python",
   "nbconvert_exporter": "python",
   "pygments_lexer": "ipython3",
   "version": "3.10.11"
  },
  "orig_nbformat": 4
 },
 "nbformat": 4,
 "nbformat_minor": 2
}
