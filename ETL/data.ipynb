{
 "cells": [
  {
   "cell_type": "code",
   "execution_count": 2,
   "metadata": {},
   "outputs": [],
   "source": [
    "import pandas as pd\n",
    "import random\n",
    "from sqlalchemy.orm import Session"
   ]
  },
  {
   "cell_type": "code",
   "execution_count": 31,
   "metadata": {},
   "outputs": [
    {
     "name": "stdout",
     "output_type": "stream",
     "text": [
      "   index           City  Year  Value  Percentage_Change\n",
      "0      1  San Francisco  2000  200.5           0.064225\n",
      "1      2  San Francisco  2001  219.7           0.095761\n",
      "2      3  San Francisco  2002  222.0           0.010469\n",
      "3      4  San Francisco  2003  223.7           0.007658\n",
      "4      5  San Francisco  2004  221.9          -0.008046\n"
     ]
    },
    {
     "name": "stderr",
     "output_type": "stream",
     "text": [
      "/var/folders/7k/6nnx_jrs1kj7qg39rwhwdr180000gn/T/ipykernel_40601/3954040311.py:25: SettingWithCopyWarning: \n",
      "A value is trying to be set on a copy of a slice from a DataFrame.\n",
      "Try using .loc[row_indexer,col_indexer] = value instead\n",
      "\n",
      "See the caveats in the documentation: https://pandas.pydata.org/pandas-docs/stable/user_guide/indexing.html#returning-a-view-versus-a-copy\n",
      "  Final['Percentage_Change'] = ''\n",
      "/var/folders/7k/6nnx_jrs1kj7qg39rwhwdr180000gn/T/ipykernel_40601/3954040311.py:43: FutureWarning: The frame.append method is deprecated and will be removed from pandas in a future version. Use pandas.concat instead.\n",
      "  Merged = Final.append(HousingData)\n"
     ]
    }
   ],
   "source": [
    "import requests\n",
    "import json\n",
    "\n",
    "HousingData = pd.read_csv('HousingDataAustin.csv')\n",
    "HousingData['DATE'] = HousingData['DATE'].astype('datetime64[D]')\n",
    "HousingData = HousingData[(HousingData['DATE']>'1999') & (HousingData['DATE'].dt.month == 10)]\n",
    "HousingData['Year'] = HousingData['DATE'].dt.year\n",
    "Indexed_Home_Price = 100638\n",
    "\n",
    "HousingData['Value'] = Indexed_Home_Price*HousingData['ATNHPIUS12420Q']\n",
    "HousingData['Percentage_Change'] = HousingData['Value'].pct_change()\n",
    "HousingData = HousingData[(HousingData['DATE']>'2000')]\n",
    "\n",
    "HousingData['City'] = 'Austin'\n",
    "\n",
    "\n",
    "HousingData = HousingData[['City','Year','Value','Percentage_Change']]\n",
    "\n",
    "SFHousingData = pd.read_csv('HousingDataSF.csv')\n",
    "\n",
    "Filtered = SFHousingData[(SFHousingData['Series ID'] == 'CUUSS49BSAH') & (SFHousingData['Period'] == 'S02')]\n",
    "\n",
    "Final = Filtered[['Series ID','Year','Value']]\n",
    "\n",
    "Final['Percentage_Change'] = ''\n",
    "\n",
    "Final['City'] = ''\n",
    "\n",
    "Final['Value'] = Final['Value'].astype('Float64')\n",
    "\n",
    "Final = Final.reset_index(drop=True)\n",
    "\n",
    "Final['Percentage_Change'] = Final['Value'].pct_change()\n",
    "\n",
    "Final['City'] =  'San Francisco'\n",
    "\n",
    "Final = Final[(Final['Year']) >= 2000]\n",
    "\n",
    "Final = Final.rename(columns={'Series ID': 'Seriesid'})\n",
    "\n",
    "Final = Final[['City','Year','Value','Percentage_Change']]\n",
    "\n",
    "Merged = Final.append(HousingData)\n",
    "\n",
    "Merged = Merged.reset_index()\n",
    "\n",
    "\n",
    "\n",
    "print(Merged.head())\n",
    "\n",
    "    "
   ]
  },
  {
   "cell_type": "code",
   "execution_count": 29,
   "metadata": {},
   "outputs": [
    {
     "name": "stdout",
     "output_type": "stream",
     "text": [
      "            City  Year  Value  Percentage_Change\n",
      "1  San Francisco  2000  200.5           0.064225\n",
      "2  San Francisco  2001  219.7           0.095761\n",
      "3  San Francisco  2002  222.0           0.010469\n",
      "4  San Francisco  2003  223.7           0.007658\n",
      "5  San Francisco  2004  221.9          -0.008046\n"
     ]
    },
    {
     "name": "stderr",
     "output_type": "stream",
     "text": [
      "/var/folders/7k/6nnx_jrs1kj7qg39rwhwdr180000gn/T/ipykernel_40601/144662028.py:7: SettingWithCopyWarning: \n",
      "A value is trying to be set on a copy of a slice from a DataFrame.\n",
      "Try using .loc[row_indexer,col_indexer] = value instead\n",
      "\n",
      "See the caveats in the documentation: https://pandas.pydata.org/pandas-docs/stable/user_guide/indexing.html#returning-a-view-versus-a-copy\n",
      "  Final['Percentage_Change'] = ''\n",
      "/var/folders/7k/6nnx_jrs1kj7qg39rwhwdr180000gn/T/ipykernel_40601/144662028.py:25: FutureWarning: The frame.append method is deprecated and will be removed from pandas in a future version. Use pandas.concat instead.\n",
      "  Merged = Final.append(HousingData)\n"
     ]
    }
   ],
   "source": []
  },
  {
   "cell_type": "markdown",
   "metadata": {},
   "source": []
  }
 ],
 "metadata": {
  "kernelspec": {
   "display_name": "databootcamp",
   "language": "python",
   "name": "python3"
  },
  "language_info": {
   "codemirror_mode": {
    "name": "ipython",
    "version": 3
   },
   "file_extension": ".py",
   "mimetype": "text/x-python",
   "name": "python",
   "nbconvert_exporter": "python",
   "pygments_lexer": "ipython3",
   "version": "3.10.11"
  },
  "orig_nbformat": 4
 },
 "nbformat": 4,
 "nbformat_minor": 2
}
